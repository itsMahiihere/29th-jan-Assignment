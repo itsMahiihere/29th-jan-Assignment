{
 "cells": [
  {
   "cell_type": "code",
   "execution_count": null,
   "id": "19de2087-6ae4-4d44-b0c9-e723102926be",
   "metadata": {},
   "outputs": [],
   "source": [
    "1. Who developed python programming language?\n",
    "Ans:- Guido Van Rossum"
   ]
  },
  {
   "cell_type": "code",
   "execution_count": null,
   "id": "e28c5459-5a6f-4a0a-bb53-53f94ad417a9",
   "metadata": {},
   "outputs": [],
   "source": [
    "2. Which type programming does python support?\n",
    "Ans:- Object Oriented Programming & structured Programming"
   ]
  },
  {
   "cell_type": "code",
   "execution_count": null,
   "id": "9f14a7b3-a66d-4bcc-bc42-cd40177e7d97",
   "metadata": {},
   "outputs": [],
   "source": [
    "3. Is python is case sensitive when dealing with identifiers?\n",
    "Ans:- Yes"
   ]
  },
  {
   "cell_type": "code",
   "execution_count": null,
   "id": "ef42e408-34fe-437d-80c5-6002ba1d06af",
   "metadata": {},
   "outputs": [],
   "source": [
    "4. What is the correct extension of python file?\n",
    "Ans:- .py"
   ]
  },
  {
   "cell_type": "code",
   "execution_count": null,
   "id": "e3ac26d1-ddc8-4346-b2ef-46345af0fd30",
   "metadata": {},
   "outputs": [],
   "source": [
    "5. Is python code is compiled or interpreted?\n",
    "Ans:- compiled as well as interpreted"
   ]
  },
  {
   "cell_type": "code",
   "execution_count": null,
   "id": "99c0ea54-5f83-4e62-b677-e7125e99d2b5",
   "metadata": {},
   "outputs": [],
   "source": [
    "6. Name a few block of code used to define in python language?\n",
    "Ans:- Indentation is used to define a block of code in python"
   ]
  },
  {
   "cell_type": "code",
   "execution_count": null,
   "id": "534c9890-2da5-486e-aaf4-7e42d35dbbf3",
   "metadata": {},
   "outputs": [],
   "source": [
    "7. state a character used to give single line comments in python?\n",
    "Ans:- # and ## is used "
   ]
  },
  {
   "cell_type": "code",
   "execution_count": null,
   "id": "c69cfa15-c00e-4b16-a0df-951a6205b51e",
   "metadata": {},
   "outputs": [],
   "source": [
    "8. Mention funtion which can help us to find the version of python that we are currently working on? \n",
    "Ans:- sys.version"
   ]
  },
  {
   "cell_type": "code",
   "execution_count": null,
   "id": "61ee5bf0-0596-4739-9840-8fb364bbf986",
   "metadata": {},
   "outputs": [],
   "source": [
    "9.python support the creation of anonymous funtions at runtime,using construct called?\n",
    "Ans:- lambda"
   ]
  },
  {
   "cell_type": "code",
   "execution_count": null,
   "id": "aeb5d93d-1293-4233-a591-cf03976891f1",
   "metadata": {},
   "outputs": [],
   "source": [
    "10. What does pip stand for python?\n",
    "Ans:- preperred installer program"
   ]
  },
  {
   "cell_type": "code",
   "execution_count": null,
   "id": "3a6b9614-62a7-411a-a7f2-30ca9cbda924",
   "metadata": {},
   "outputs": [],
   "source": [
    "11.Mention a few Built-in funtions is python?\n",
    "Ans:- len(),insert(),append(),extend(),lower(),upper(),type() etc."
   ]
  },
  {
   "cell_type": "code",
   "execution_count": null,
   "id": "007b0e77-e14f-4dfa-91e6-22316f7f67dc",
   "metadata": {},
   "outputs": [],
   "source": [
    "12.What is maximum possible lenth of an identifier in python?\n",
    "Ans:- 79 characters"
   ]
  },
  {
   "cell_type": "code",
   "execution_count": null,
   "id": "9c65d535-a707-44e8-aaad-024d4867b351",
   "metadata": {},
   "outputs": [],
   "source": [
    "13.what are the benifits using python?\n",
    "Ans:- 1.Extensive library     2.Free & open source  3.portability  4.Write less and do more  5.wide range of use case\n",
    "      6.its benifits  in data science, web development , financing and game designing also\n",
    " "
   ]
  },
  {
   "cell_type": "code",
   "execution_count": null,
   "id": "e132f26e-3974-4fdf-b8d3-1b90cb298e50",
   "metadata": {},
   "outputs": [],
   "source": [
    "14. How is memory manage in python?\n",
    "Ans:- by python private heap space"
   ]
  },
  {
   "cell_type": "code",
   "execution_count": null,
   "id": "49eb10cc-e590-4a3b-9fa6-b1faf6769d3f",
   "metadata": {},
   "outputs": [],
   "source": [
    "15.How to install python in window and set path variable?\n",
    "\n",
    "Ans:- 1. Open a browser to the Python website and download the Windows installer.\n",
    "      2. Double click on the downloaded file and install Python for all users, and ensure that Python is added to your path. Click on Install now to begin. \n",
    "      3. After the installation is complete, click Disable path length limit and then Close. \n"
   ]
  },
  {
   "cell_type": "code",
   "execution_count": null,
   "id": "0eba6773-54b0-452e-9a26-b1ea73c0c3a7",
   "metadata": {},
   "outputs": [],
   "source": [
    "    4. Right-clicking This PC and going to Properties.\n",
    "\n",
    "    5.Clicking on the Advanced system settings in the menu on the left.\n",
    "\n",
    "    6.Clicking on the Environment Variables button on the bottom right.\n",
    "\n",
    "    7.In the System variables section, selecting the Path variable and clicking on Edit. The next screen will show all the directories that are currently a part of the PATH variable.\n",
    "\n",
    "    8.Clicking on New and entering Python’s install directory."
   ]
  },
  {
   "cell_type": "code",
   "execution_count": null,
   "id": "9252ed3f-a83a-4f60-bfde-fa3878a3c16c",
   "metadata": {},
   "outputs": [],
   "source": [
    "16. Is indentation required in python?\n",
    "Ans:- Yes, Indentation is a very important concept in python"
   ]
  }
 ],
 "metadata": {
  "kernelspec": {
   "display_name": "Python 3 (ipykernel)",
   "language": "python",
   "name": "python3"
  },
  "language_info": {
   "codemirror_mode": {
    "name": "ipython",
    "version": 3
   },
   "file_extension": ".py",
   "mimetype": "text/x-python",
   "name": "python",
   "nbconvert_exporter": "python",
   "pygments_lexer": "ipython3",
   "version": "3.10.6"
  }
 },
 "nbformat": 4,
 "nbformat_minor": 5
}
